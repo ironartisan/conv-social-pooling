{
 "cells": [
  {
   "cell_type": "code",
   "execution_count": 8,
   "metadata": {
    "collapsed": true
   },
   "outputs": [],
   "source": [
    "import pandas as pd\n",
    "import numpy as np\n",
    "import os\n",
    "import matplotlib.pyplot as plt\n",
    "from datetime import datetime, timedelta\n",
    "file_ =  os.path.join('./data','Next_Generation_Simulation__NGSIM__Vehicle_Trajectories_and_Supporting_Data.csv')\n",
    "ngisim_data = pd.read_csv(file_,nrows=10000)"
   ]
  },
  {
   "cell_type": "code",
   "execution_count": 9,
   "outputs": [],
   "source": [
    "us_101 = ngisim_data[ngisim_data['Location'] == 'us-101']\n",
    "us_101 = us_101.head(10000)"
   ],
   "metadata": {
    "collapsed": false,
    "pycharm": {
     "name": "#%%\n"
    }
   }
  },
  {
   "cell_type": "code",
   "execution_count": 10,
   "outputs": [],
   "source": [
    "us_101= us_101.sort_values(['Global_Time'])"
   ],
   "metadata": {
    "collapsed": false,
    "pycharm": {
     "name": "#%%\n"
    }
   }
  },
  {
   "cell_type": "code",
   "execution_count": 11,
   "outputs": [],
   "source": [
    "time_difs_from_0 = us_101.Global_Time.values - us_101.Global_Time.values[0]"
   ],
   "metadata": {
    "collapsed": false,
    "pycharm": {
     "name": "#%% Time difference from the beginning of the recordings\n"
    }
   }
  },
  {
   "cell_type": "code",
   "execution_count": 12,
   "outputs": [],
   "source": [
    "masks = np.zeros((len(us_101),3)).astype(np.bool)\n",
    "LAG = 60*15*1E3 #Each sessions lasts 15 minutes and are consecutive\n",
    "guard = 60*1E3 #one minute of guard interval\n",
    "for sess in range(3):\n",
    "     mask_1 =  time_difs_from_0 >= sess*LAG + (sess > 0)*guard\n",
    "     mask_2 =  time_difs_from_0 < (sess+1)*LAG + guard\n",
    "     masks[:,sess]= mask_1*mask_2"
   ],
   "metadata": {
    "collapsed": false,
    "pycharm": {
     "name": "#%%Get recording sessions\n"
    }
   }
  },
  {
   "cell_type": "code",
   "execution_count": 6,
   "outputs": [],
   "source": [
    "us_101_sess_1 = us_101[masks[:,0]]\n",
    "us_101_sess_2 = us_101[masks[:,1]]\n",
    "us_101_sess_3 = us_101[masks[:,2]]"
   ],
   "metadata": {
    "collapsed": false,
    "pycharm": {
     "name": "#%%\n"
    }
   }
  },
  {
   "cell_type": "code",
   "execution_count": 7,
   "outputs": [
    {
     "data": {
      "text/plain": "      Vehicle_ID  Frame_ID  Total_Frames    Global_Time  Local_X   Local_Y  \\\n387           26       101           438  1118846989000   14.946   185.573   \n2453          48       154           507  1118846994300   52.627   258.167   \n5381          57       173           423  1118846996200   27.615   115.538   \n9482          75       186           484  1118846997500   50.304   162.698   \n7410          54       248           440  1118847003700    6.824   447.641   \n...          ...       ...           ...            ...      ...       ...   \n6094         171      1051           534  1118847947100   38.696   207.652   \n2268         113      1056           483  1118847947600   52.868  1011.086   \n102           73      1060           519  1118847948000   18.751  1853.192   \n3316         151      1062           468  1118847948200   53.803   407.256   \n7804          81      1064           587  1118847948400   20.117  1647.329   \n\n         Global_X     Global_Y  v_length  v_Width  ...  D_Zone  Int_ID  \\\n387   6451240.848  1873235.177      11.5      7.0  ...     NaN     NaN   \n2453  6451265.940  1873155.894      15.5      5.9  ...     NaN     NaN   \n5381  6451183.539  1873277.804      16.0      6.4  ...     NaN     NaN   \n9482  6451199.032  1873227.838      13.5      4.9  ...     NaN     NaN   \n7410  6451435.703  1873058.707      17.0      7.4  ...     NaN     NaN   \n...           ...          ...       ...      ...  ...     ...     ...   \n6094  6451210.892  1873232.129      14.5      5.9  ...     NaN     NaN   \n2268  6451797.318  1872677.032      14.5      5.4  ...     NaN     NaN   \n102   6452453.921  1872148.756      16.0      5.9  ...     NaN     NaN   \n3316  6451344.553  1873078.822      16.0      6.4  ...     NaN     NaN   \n7804  6452298.069  1872283.224      15.0      5.9  ...     NaN     NaN   \n\n      Section_ID  Direction  Movement  Preceding  Following  Space_Headway  \\\n387          NaN        NaN       NaN         22         32          49.49   \n2453         NaN        NaN       NaN         35         53          42.67   \n5381         NaN        NaN       NaN         49         64          45.97   \n9482         NaN        NaN       NaN         74         82          40.93   \n7410         NaN        NaN       NaN         43         59         141.90   \n...          ...        ...       ...        ...        ...            ...   \n6094         NaN        NaN       NaN        163        173          57.17   \n2268         NaN        NaN       NaN        106        118         105.34   \n102          NaN        NaN       NaN         67         78         147.86   \n3316         NaN        NaN       NaN        147        160          79.41   \n7804         NaN        NaN       NaN         78         84         127.44   \n\n      Time_Headway  Location  \n387           1.41    us-101  \n2453          1.13    us-101  \n5381          1.31    us-101  \n9482          1.25    us-101  \n7410          3.15    us-101  \n...            ...       ...  \n6094          2.17    us-101  \n2268          2.25    us-101  \n102           2.34    us-101  \n3316          1.88    us-101  \n7804          2.55    us-101  \n\n[1439 rows x 25 columns]",
      "text/html": "<div>\n<style scoped>\n    .dataframe tbody tr th:only-of-type {\n        vertical-align: middle;\n    }\n\n    .dataframe tbody tr th {\n        vertical-align: top;\n    }\n\n    .dataframe thead th {\n        text-align: right;\n    }\n</style>\n<table border=\"1\" class=\"dataframe\">\n  <thead>\n    <tr style=\"text-align: right;\">\n      <th></th>\n      <th>Vehicle_ID</th>\n      <th>Frame_ID</th>\n      <th>Total_Frames</th>\n      <th>Global_Time</th>\n      <th>Local_X</th>\n      <th>Local_Y</th>\n      <th>Global_X</th>\n      <th>Global_Y</th>\n      <th>v_length</th>\n      <th>v_Width</th>\n      <th>...</th>\n      <th>D_Zone</th>\n      <th>Int_ID</th>\n      <th>Section_ID</th>\n      <th>Direction</th>\n      <th>Movement</th>\n      <th>Preceding</th>\n      <th>Following</th>\n      <th>Space_Headway</th>\n      <th>Time_Headway</th>\n      <th>Location</th>\n    </tr>\n  </thead>\n  <tbody>\n    <tr>\n      <th>387</th>\n      <td>26</td>\n      <td>101</td>\n      <td>438</td>\n      <td>1118846989000</td>\n      <td>14.946</td>\n      <td>185.573</td>\n      <td>6451240.848</td>\n      <td>1873235.177</td>\n      <td>11.5</td>\n      <td>7.0</td>\n      <td>...</td>\n      <td>NaN</td>\n      <td>NaN</td>\n      <td>NaN</td>\n      <td>NaN</td>\n      <td>NaN</td>\n      <td>22</td>\n      <td>32</td>\n      <td>49.49</td>\n      <td>1.41</td>\n      <td>us-101</td>\n    </tr>\n    <tr>\n      <th>2453</th>\n      <td>48</td>\n      <td>154</td>\n      <td>507</td>\n      <td>1118846994300</td>\n      <td>52.627</td>\n      <td>258.167</td>\n      <td>6451265.940</td>\n      <td>1873155.894</td>\n      <td>15.5</td>\n      <td>5.9</td>\n      <td>...</td>\n      <td>NaN</td>\n      <td>NaN</td>\n      <td>NaN</td>\n      <td>NaN</td>\n      <td>NaN</td>\n      <td>35</td>\n      <td>53</td>\n      <td>42.67</td>\n      <td>1.13</td>\n      <td>us-101</td>\n    </tr>\n    <tr>\n      <th>5381</th>\n      <td>57</td>\n      <td>173</td>\n      <td>423</td>\n      <td>1118846996200</td>\n      <td>27.615</td>\n      <td>115.538</td>\n      <td>6451183.539</td>\n      <td>1873277.804</td>\n      <td>16.0</td>\n      <td>6.4</td>\n      <td>...</td>\n      <td>NaN</td>\n      <td>NaN</td>\n      <td>NaN</td>\n      <td>NaN</td>\n      <td>NaN</td>\n      <td>49</td>\n      <td>64</td>\n      <td>45.97</td>\n      <td>1.31</td>\n      <td>us-101</td>\n    </tr>\n    <tr>\n      <th>9482</th>\n      <td>75</td>\n      <td>186</td>\n      <td>484</td>\n      <td>1118846997500</td>\n      <td>50.304</td>\n      <td>162.698</td>\n      <td>6451199.032</td>\n      <td>1873227.838</td>\n      <td>13.5</td>\n      <td>4.9</td>\n      <td>...</td>\n      <td>NaN</td>\n      <td>NaN</td>\n      <td>NaN</td>\n      <td>NaN</td>\n      <td>NaN</td>\n      <td>74</td>\n      <td>82</td>\n      <td>40.93</td>\n      <td>1.25</td>\n      <td>us-101</td>\n    </tr>\n    <tr>\n      <th>7410</th>\n      <td>54</td>\n      <td>248</td>\n      <td>440</td>\n      <td>1118847003700</td>\n      <td>6.824</td>\n      <td>447.641</td>\n      <td>6451435.703</td>\n      <td>1873058.707</td>\n      <td>17.0</td>\n      <td>7.4</td>\n      <td>...</td>\n      <td>NaN</td>\n      <td>NaN</td>\n      <td>NaN</td>\n      <td>NaN</td>\n      <td>NaN</td>\n      <td>43</td>\n      <td>59</td>\n      <td>141.90</td>\n      <td>3.15</td>\n      <td>us-101</td>\n    </tr>\n    <tr>\n      <th>...</th>\n      <td>...</td>\n      <td>...</td>\n      <td>...</td>\n      <td>...</td>\n      <td>...</td>\n      <td>...</td>\n      <td>...</td>\n      <td>...</td>\n      <td>...</td>\n      <td>...</td>\n      <td>...</td>\n      <td>...</td>\n      <td>...</td>\n      <td>...</td>\n      <td>...</td>\n      <td>...</td>\n      <td>...</td>\n      <td>...</td>\n      <td>...</td>\n      <td>...</td>\n      <td>...</td>\n    </tr>\n    <tr>\n      <th>6094</th>\n      <td>171</td>\n      <td>1051</td>\n      <td>534</td>\n      <td>1118847947100</td>\n      <td>38.696</td>\n      <td>207.652</td>\n      <td>6451210.892</td>\n      <td>1873232.129</td>\n      <td>14.5</td>\n      <td>5.9</td>\n      <td>...</td>\n      <td>NaN</td>\n      <td>NaN</td>\n      <td>NaN</td>\n      <td>NaN</td>\n      <td>NaN</td>\n      <td>163</td>\n      <td>173</td>\n      <td>57.17</td>\n      <td>2.17</td>\n      <td>us-101</td>\n    </tr>\n    <tr>\n      <th>2268</th>\n      <td>113</td>\n      <td>1056</td>\n      <td>483</td>\n      <td>1118847947600</td>\n      <td>52.868</td>\n      <td>1011.086</td>\n      <td>6451797.318</td>\n      <td>1872677.032</td>\n      <td>14.5</td>\n      <td>5.4</td>\n      <td>...</td>\n      <td>NaN</td>\n      <td>NaN</td>\n      <td>NaN</td>\n      <td>NaN</td>\n      <td>NaN</td>\n      <td>106</td>\n      <td>118</td>\n      <td>105.34</td>\n      <td>2.25</td>\n      <td>us-101</td>\n    </tr>\n    <tr>\n      <th>102</th>\n      <td>73</td>\n      <td>1060</td>\n      <td>519</td>\n      <td>1118847948000</td>\n      <td>18.751</td>\n      <td>1853.192</td>\n      <td>6452453.921</td>\n      <td>1872148.756</td>\n      <td>16.0</td>\n      <td>5.9</td>\n      <td>...</td>\n      <td>NaN</td>\n      <td>NaN</td>\n      <td>NaN</td>\n      <td>NaN</td>\n      <td>NaN</td>\n      <td>67</td>\n      <td>78</td>\n      <td>147.86</td>\n      <td>2.34</td>\n      <td>us-101</td>\n    </tr>\n    <tr>\n      <th>3316</th>\n      <td>151</td>\n      <td>1062</td>\n      <td>468</td>\n      <td>1118847948200</td>\n      <td>53.803</td>\n      <td>407.256</td>\n      <td>6451344.553</td>\n      <td>1873078.822</td>\n      <td>16.0</td>\n      <td>6.4</td>\n      <td>...</td>\n      <td>NaN</td>\n      <td>NaN</td>\n      <td>NaN</td>\n      <td>NaN</td>\n      <td>NaN</td>\n      <td>147</td>\n      <td>160</td>\n      <td>79.41</td>\n      <td>1.88</td>\n      <td>us-101</td>\n    </tr>\n    <tr>\n      <th>7804</th>\n      <td>81</td>\n      <td>1064</td>\n      <td>587</td>\n      <td>1118847948400</td>\n      <td>20.117</td>\n      <td>1647.329</td>\n      <td>6452298.069</td>\n      <td>1872283.224</td>\n      <td>15.0</td>\n      <td>5.9</td>\n      <td>...</td>\n      <td>NaN</td>\n      <td>NaN</td>\n      <td>NaN</td>\n      <td>NaN</td>\n      <td>NaN</td>\n      <td>78</td>\n      <td>84</td>\n      <td>127.44</td>\n      <td>2.55</td>\n      <td>us-101</td>\n    </tr>\n  </tbody>\n</table>\n<p>1439 rows × 25 columns</p>\n</div>"
     },
     "execution_count": 7,
     "metadata": {},
     "output_type": "execute_result"
    }
   ],
   "source": [
    "us_101_sess_1"
   ],
   "metadata": {
    "collapsed": false,
    "pycharm": {
     "name": "#%%\n"
    }
   }
  }
 ],
 "metadata": {
  "kernelspec": {
   "name": "python3",
   "language": "python",
   "display_name": "Python 3"
  },
  "language_info": {
   "codemirror_mode": {
    "name": "ipython",
    "version": 2
   },
   "file_extension": ".py",
   "mimetype": "text/x-python",
   "name": "python",
   "nbconvert_exporter": "python",
   "pygments_lexer": "ipython2",
   "version": "2.7.6"
  }
 },
 "nbformat": 4,
 "nbformat_minor": 0
}